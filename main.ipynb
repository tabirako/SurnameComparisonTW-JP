{
 "cells": [
  {
   "cell_type": "markdown",
   "id": "24c6740a-997a-4b5d-b9e4-b85c6b10d676",
   "metadata": {},
   "source": [
    "# A comparison between the degree of concentration of last names between Japan and Taiwan"
   ]
  },
  {
   "cell_type": "code",
   "execution_count": 1,
   "id": "752d9e68-bed2-4105-885a-8137ad524c8a",
   "metadata": {
    "tags": []
   },
   "outputs": [
    {
     "name": "stdout",
     "output_type": "stream",
     "text": [
      "(25078, 3)\n",
      "<bound method NDFrame.head of       sei    rank  number\n",
      "0      佐藤      1位  481980\n",
      "1      鈴木      2位  426804\n",
      "2      高橋      3位  353911\n",
      "3      田中      4位  334073\n",
      "4      渡辺      5位  276257\n",
      "...    ..     ...     ...\n",
      "25073  根口  24706位      40\n",
      "25074  根〆  24706位      40\n",
      "25075  今春  24706位      40\n",
      "25076  此木  24706位      40\n",
      "25077  黒肱  24706位      40\n",
      "\n",
      "[25078 rows x 3 columns]>\n"
     ]
    }
   ],
   "source": [
    "import pandas as pd\n",
    "import numpy as np\n",
    "import matplotlib.pyplot as plt\n",
    "\n",
    "jp = pd.read_csv('./utf_8_japan.csv')\n",
    "print(jp.shape)\n",
    "print(jp.head)"
   ]
  },
  {
   "cell_type": "markdown",
   "id": "a7e17465-3119-4299-b580-4fcc593ab1ee",
   "metadata": {},
   "source": [
    "## As usual, first we import the files and make them into the same format"
   ]
  },
  {
   "cell_type": "code",
   "execution_count": 2,
   "id": "a2d3c466-ba80-45dc-a771-c3fd5da1b34e",
   "metadata": {
    "tags": []
   },
   "outputs": [],
   "source": [
    "jp_format = jp.drop('rank',axis=1)"
   ]
  },
  {
   "cell_type": "code",
   "execution_count": 3,
   "id": "ff7db3e6-430c-4362-8347-7488560ae38e",
   "metadata": {
    "tags": []
   },
   "outputs": [
    {
     "data": {
      "text/html": [
       "<div>\n",
       "<style scoped>\n",
       "    .dataframe tbody tr th:only-of-type {\n",
       "        vertical-align: middle;\n",
       "    }\n",
       "\n",
       "    .dataframe tbody tr th {\n",
       "        vertical-align: top;\n",
       "    }\n",
       "\n",
       "    .dataframe thead th {\n",
       "        text-align: right;\n",
       "    }\n",
       "</style>\n",
       "<table border=\"1\" class=\"dataframe\">\n",
       "  <thead>\n",
       "    <tr style=\"text-align: right;\">\n",
       "      <th></th>\n",
       "      <th>ranking</th>\n",
       "      <th>lastname</th>\n",
       "      <th>population</th>\n",
       "    </tr>\n",
       "  </thead>\n",
       "  <tbody>\n",
       "    <tr>\n",
       "      <th>0</th>\n",
       "      <td>1</td>\n",
       "      <td>佐藤</td>\n",
       "      <td>481980</td>\n",
       "    </tr>\n",
       "    <tr>\n",
       "      <th>1</th>\n",
       "      <td>2</td>\n",
       "      <td>鈴木</td>\n",
       "      <td>426804</td>\n",
       "    </tr>\n",
       "    <tr>\n",
       "      <th>2</th>\n",
       "      <td>3</td>\n",
       "      <td>高橋</td>\n",
       "      <td>353911</td>\n",
       "    </tr>\n",
       "    <tr>\n",
       "      <th>3</th>\n",
       "      <td>4</td>\n",
       "      <td>田中</td>\n",
       "      <td>334073</td>\n",
       "    </tr>\n",
       "    <tr>\n",
       "      <th>4</th>\n",
       "      <td>5</td>\n",
       "      <td>渡辺</td>\n",
       "      <td>276257</td>\n",
       "    </tr>\n",
       "    <tr>\n",
       "      <th>...</th>\n",
       "      <td>...</td>\n",
       "      <td>...</td>\n",
       "      <td>...</td>\n",
       "    </tr>\n",
       "    <tr>\n",
       "      <th>25073</th>\n",
       "      <td>25074</td>\n",
       "      <td>根口</td>\n",
       "      <td>40</td>\n",
       "    </tr>\n",
       "    <tr>\n",
       "      <th>25074</th>\n",
       "      <td>25075</td>\n",
       "      <td>根〆</td>\n",
       "      <td>40</td>\n",
       "    </tr>\n",
       "    <tr>\n",
       "      <th>25075</th>\n",
       "      <td>25076</td>\n",
       "      <td>今春</td>\n",
       "      <td>40</td>\n",
       "    </tr>\n",
       "    <tr>\n",
       "      <th>25076</th>\n",
       "      <td>25077</td>\n",
       "      <td>此木</td>\n",
       "      <td>40</td>\n",
       "    </tr>\n",
       "    <tr>\n",
       "      <th>25077</th>\n",
       "      <td>25078</td>\n",
       "      <td>黒肱</td>\n",
       "      <td>40</td>\n",
       "    </tr>\n",
       "  </tbody>\n",
       "</table>\n",
       "<p>25078 rows × 3 columns</p>\n",
       "</div>"
      ],
      "text/plain": [
       "       ranking lastname  population\n",
       "0            1       佐藤      481980\n",
       "1            2       鈴木      426804\n",
       "2            3       高橋      353911\n",
       "3            4       田中      334073\n",
       "4            5       渡辺      276257\n",
       "...        ...      ...         ...\n",
       "25073    25074       根口          40\n",
       "25074    25075       根〆          40\n",
       "25075    25076       今春          40\n",
       "25076    25077       此木          40\n",
       "25077    25078       黒肱          40\n",
       "\n",
       "[25078 rows x 3 columns]"
      ]
     },
     "execution_count": 3,
     "metadata": {},
     "output_type": "execute_result"
    }
   ],
   "source": [
    "jp_format['ranking']=range(1,jp_format.shape[0]+1)\n",
    "jp_format = jp_format.rename(columns={\"sei\": \"lastname\", \"number\": \"population\"})\n",
    "jp_format=jp_format.reindex(columns=['ranking','lastname','population'])\n",
    "jp_format"
   ]
  },
  {
   "cell_type": "code",
   "execution_count": 4,
   "id": "4bf6ef40-8f15-428e-925b-fb2aea24f586",
   "metadata": {
    "tags": []
   },
   "outputs": [
    {
     "name": "stdout",
     "output_type": "stream",
     "text": [
      "(8193, 5)\n"
     ]
    }
   ],
   "source": [
    "tw = pd.read_csv('./taiwan.csv')\n",
    "print(tw.shape)"
   ]
  },
  {
   "cell_type": "code",
   "execution_count": 5,
   "id": "1913785d-3cd0-43f6-863f-fd9c9d5d8089",
   "metadata": {
    "tags": []
   },
   "outputs": [
    {
     "data": {
      "text/html": [
       "<div>\n",
       "<style scoped>\n",
       "    .dataframe tbody tr th:only-of-type {\n",
       "        vertical-align: middle;\n",
       "    }\n",
       "\n",
       "    .dataframe tbody tr th {\n",
       "        vertical-align: top;\n",
       "    }\n",
       "\n",
       "    .dataframe thead th {\n",
       "        text-align: right;\n",
       "    }\n",
       "</style>\n",
       "<table border=\"1\" class=\"dataframe\">\n",
       "  <thead>\n",
       "    <tr style=\"text-align: right;\">\n",
       "      <th></th>\n",
       "      <th>ranking</th>\n",
       "      <th>lastname</th>\n",
       "      <th>age</th>\n",
       "      <th>population</th>\n",
       "    </tr>\n",
       "  </thead>\n",
       "  <tbody>\n",
       "    <tr>\n",
       "      <th>0</th>\n",
       "      <td>1</td>\n",
       "      <td>陳</td>\n",
       "      <td>0~14歲</td>\n",
       "      <td>316689</td>\n",
       "    </tr>\n",
       "    <tr>\n",
       "      <th>1</th>\n",
       "      <td>1</td>\n",
       "      <td>陳</td>\n",
       "      <td>15~64歲</td>\n",
       "      <td>1822159</td>\n",
       "    </tr>\n",
       "    <tr>\n",
       "      <th>2</th>\n",
       "      <td>1</td>\n",
       "      <td>陳</td>\n",
       "      <td>65歲以上</td>\n",
       "      <td>480146</td>\n",
       "    </tr>\n",
       "    <tr>\n",
       "      <th>3</th>\n",
       "      <td>2</td>\n",
       "      <td>林</td>\n",
       "      <td>0~14歲</td>\n",
       "      <td>239450</td>\n",
       "    </tr>\n",
       "    <tr>\n",
       "      <th>4</th>\n",
       "      <td>2</td>\n",
       "      <td>林</td>\n",
       "      <td>15~64歲</td>\n",
       "      <td>1355816</td>\n",
       "    </tr>\n",
       "    <tr>\n",
       "      <th>...</th>\n",
       "      <td>...</td>\n",
       "      <td>...</td>\n",
       "      <td>...</td>\n",
       "      <td>...</td>\n",
       "    </tr>\n",
       "    <tr>\n",
       "      <th>8188</th>\n",
       "      <td>2730</td>\n",
       "      <td>󽄷</td>\n",
       "      <td>15~64歲</td>\n",
       "      <td>0</td>\n",
       "    </tr>\n",
       "    <tr>\n",
       "      <th>8189</th>\n",
       "      <td>2730</td>\n",
       "      <td>󽄷</td>\n",
       "      <td>65歲以上</td>\n",
       "      <td>1</td>\n",
       "    </tr>\n",
       "    <tr>\n",
       "      <th>8190</th>\n",
       "      <td>2731</td>\n",
       "      <td>󽆘</td>\n",
       "      <td>0~14歲</td>\n",
       "      <td>0</td>\n",
       "    </tr>\n",
       "    <tr>\n",
       "      <th>8191</th>\n",
       "      <td>2731</td>\n",
       "      <td>󽆘</td>\n",
       "      <td>15~64歲</td>\n",
       "      <td>0</td>\n",
       "    </tr>\n",
       "    <tr>\n",
       "      <th>8192</th>\n",
       "      <td>2731</td>\n",
       "      <td>󽆘</td>\n",
       "      <td>65歲以上</td>\n",
       "      <td>1</td>\n",
       "    </tr>\n",
       "  </tbody>\n",
       "</table>\n",
       "<p>8193 rows × 4 columns</p>\n",
       "</div>"
      ],
      "text/plain": [
       "      ranking lastname     age  population\n",
       "0           1        陳   0~14歲      316689\n",
       "1           1        陳  15~64歲     1822159\n",
       "2           1        陳   65歲以上      480146\n",
       "3           2        林   0~14歲      239450\n",
       "4           2        林  15~64歲     1355816\n",
       "...       ...      ...     ...         ...\n",
       "8188     2730        󽄷  15~64歲           0\n",
       "8189     2730        󽄷   65歲以上           1\n",
       "8190     2731        󽆘   0~14歲           0\n",
       "8191     2731        󽆘  15~64歲           0\n",
       "8192     2731        󽆘   65歲以上           1\n",
       "\n",
       "[8193 rows x 4 columns]"
      ]
     },
     "execution_count": 5,
     "metadata": {},
     "output_type": "execute_result"
    }
   ],
   "source": [
    "tw=tw.drop(['statistic_yyy'],axis=1)\n",
    "tw"
   ]
  },
  {
   "cell_type": "code",
   "execution_count": 6,
   "id": "df04471e-8cf0-4e5d-ba6e-37b94c4bb47e",
   "metadata": {
    "tags": []
   },
   "outputs": [
    {
     "data": {
      "text/html": [
       "<div>\n",
       "<style scoped>\n",
       "    .dataframe tbody tr th:only-of-type {\n",
       "        vertical-align: middle;\n",
       "    }\n",
       "\n",
       "    .dataframe tbody tr th {\n",
       "        vertical-align: top;\n",
       "    }\n",
       "\n",
       "    .dataframe thead th {\n",
       "        text-align: right;\n",
       "    }\n",
       "</style>\n",
       "<table border=\"1\" class=\"dataframe\">\n",
       "  <thead>\n",
       "    <tr style=\"text-align: right;\">\n",
       "      <th></th>\n",
       "      <th>ranking</th>\n",
       "      <th>lastname</th>\n",
       "      <th>population</th>\n",
       "    </tr>\n",
       "  </thead>\n",
       "  <tbody>\n",
       "    <tr>\n",
       "      <th>0</th>\n",
       "      <td>1</td>\n",
       "      <td>陳</td>\n",
       "      <td>2618994</td>\n",
       "    </tr>\n",
       "    <tr>\n",
       "      <th>1</th>\n",
       "      <td>2</td>\n",
       "      <td>林</td>\n",
       "      <td>1947520</td>\n",
       "    </tr>\n",
       "    <tr>\n",
       "      <th>2</th>\n",
       "      <td>3</td>\n",
       "      <td>黃</td>\n",
       "      <td>1402808</td>\n",
       "    </tr>\n",
       "    <tr>\n",
       "      <th>3</th>\n",
       "      <td>4</td>\n",
       "      <td>張</td>\n",
       "      <td>1239880</td>\n",
       "    </tr>\n",
       "    <tr>\n",
       "      <th>4</th>\n",
       "      <td>5</td>\n",
       "      <td>李</td>\n",
       "      <td>1199920</td>\n",
       "    </tr>\n",
       "    <tr>\n",
       "      <th>...</th>\n",
       "      <td>...</td>\n",
       "      <td>...</td>\n",
       "      <td>...</td>\n",
       "    </tr>\n",
       "    <tr>\n",
       "      <th>2726</th>\n",
       "      <td>2727</td>\n",
       "      <td>󹝞</td>\n",
       "      <td>1</td>\n",
       "    </tr>\n",
       "    <tr>\n",
       "      <th>2727</th>\n",
       "      <td>2728</td>\n",
       "      <td>󼮮原</td>\n",
       "      <td>1</td>\n",
       "    </tr>\n",
       "    <tr>\n",
       "      <th>2728</th>\n",
       "      <td>2729</td>\n",
       "      <td>󼸞</td>\n",
       "      <td>1</td>\n",
       "    </tr>\n",
       "    <tr>\n",
       "      <th>2729</th>\n",
       "      <td>2730</td>\n",
       "      <td>󽄷</td>\n",
       "      <td>1</td>\n",
       "    </tr>\n",
       "    <tr>\n",
       "      <th>2730</th>\n",
       "      <td>2731</td>\n",
       "      <td>󽆘</td>\n",
       "      <td>1</td>\n",
       "    </tr>\n",
       "  </tbody>\n",
       "</table>\n",
       "<p>2731 rows × 3 columns</p>\n",
       "</div>"
      ],
      "text/plain": [
       "      ranking lastname  population\n",
       "0           1        陳     2618994\n",
       "1           2        林     1947520\n",
       "2           3        黃     1402808\n",
       "3           4        張     1239880\n",
       "4           5        李     1199920\n",
       "...       ...      ...         ...\n",
       "2726     2727        󹝞           1\n",
       "2727     2728       󼮮原           1\n",
       "2728     2729        󼸞           1\n",
       "2729     2730        󽄷           1\n",
       "2730     2731        󽆘           1\n",
       "\n",
       "[2731 rows x 3 columns]"
      ]
     },
     "execution_count": 6,
     "metadata": {},
     "output_type": "execute_result"
    }
   ],
   "source": [
    "tw_format = tw.groupby(['ranking','lastname']).agg(sum).reset_index().drop(['age'],axis=1)\n",
    "tw_format"
   ]
  },
  {
   "cell_type": "markdown",
   "id": "2e3cc535-fb68-4ebc-9c30-2355ca3f0b7c",
   "metadata": {},
   "source": [
    "## After that, we making them into numpy arrays and calculate the hhi indexes of them"
   ]
  },
  {
   "cell_type": "code",
   "execution_count": 7,
   "id": "20a71fdd-8b65-4b55-80e7-98627f069624",
   "metadata": {
    "tags": []
   },
   "outputs": [],
   "source": [
    "t = tw_format.to_numpy()\n",
    "j = jp_format.to_numpy()"
   ]
  },
  {
   "cell_type": "code",
   "execution_count": 8,
   "id": "108f6166-c979-45e8-8ef1-8e3f3eabb557",
   "metadata": {
    "tags": []
   },
   "outputs": [
    {
     "data": {
      "text/plain": [
       "array([[1, '陳', 2618994],\n",
       "       [2, '林', 1947520],\n",
       "       [3, '黃', 1402808],\n",
       "       ...,\n",
       "       [2729, '\\U000fce1e', 1],\n",
       "       [2730, '\\U000fd137', 1],\n",
       "       [2731, '\\U000fd198', 1]], dtype=object)"
      ]
     },
     "execution_count": 8,
     "metadata": {},
     "output_type": "execute_result"
    }
   ],
   "source": [
    "t"
   ]
  },
  {
   "cell_type": "code",
   "execution_count": 9,
   "id": "059852d2-59c1-4293-9e9a-e46a1588bfd2",
   "metadata": {
    "tags": []
   },
   "outputs": [
    {
     "data": {
      "text/plain": [
       "array([[1, '佐藤', 481980],\n",
       "       [2, '鈴木', 426804],\n",
       "       [3, '高橋', 353911],\n",
       "       ...,\n",
       "       [25076, '今春', 40],\n",
       "       [25077, '此木', 40],\n",
       "       [25078, '黒肱', 40]], dtype=object)"
      ]
     },
     "execution_count": 9,
     "metadata": {},
     "output_type": "execute_result"
    }
   ],
   "source": [
    "j"
   ]
  },
  {
   "cell_type": "code",
   "execution_count": 10,
   "id": "d28d2493-8669-4192-b80d-7269dd99261f",
   "metadata": {
    "tags": []
   },
   "outputs": [],
   "source": [
    "def hhi(data):\n",
    "    temp = data*1\n",
    "    p_sum = sum(temp[:,2])\n",
    "    temp[:,2] /= p_sum\n",
    "    return sum(temp[:,2]**2)\n",
    "\n",
    "def get_percent(data):\n",
    "    temp = data*1\n",
    "    p_sum = sum(temp[:,2])\n",
    "    temp[:,2] /= p_sum\n",
    "    return temp\n"
   ]
  },
  {
   "cell_type": "code",
   "execution_count": 11,
   "id": "50a77eca-19ce-4da3-beac-8f7cf47d78a2",
   "metadata": {
    "tags": []
   },
   "outputs": [
    {
     "name": "stdout",
     "output_type": "stream",
     "text": [
      "The hhi index of Japan: 0.004079500854915622\n",
      "The hhi index of Taiwan: 0.03864669496413481\n"
     ]
    }
   ],
   "source": [
    "p_j = get_percent(j)\n",
    "p_t = get_percent(t)\n",
    "p_j_1k = get_percent(j[:1000])\n",
    "p_t_1k = get_percent(t[:1000])\n",
    "\n",
    "\n",
    "print(f'The hhi index of Japan: {hhi(j[:1000])}')\n",
    "print(f'The hhi index of Taiwan: {hhi(t[:1000])}')"
   ]
  },
  {
   "cell_type": "markdown",
   "id": "0e380281-68f4-41ee-bd0c-05bfa7484e15",
   "metadata": {},
   "source": [
    "## As you can see, Taiwan has a higher level of concentration of last names\n",
    "### The hhi index of Japan: 0.004079500854915622\n",
    "### The hhi index of Taiwan: 0.03864669496413481"
   ]
  },
  {
   "cell_type": "markdown",
   "id": "ce4f2e72-fa88-4112-bd40-755c232800f0",
   "metadata": {},
   "source": [
    "## Now we tried to draw the individual percents of last names in on a log scale in a decending order\n",
    "### Japan being red and Taiwan being blue curves"
   ]
  },
  {
   "cell_type": "code",
   "execution_count": 12,
   "id": "d2c40f51-3b96-43ae-b504-faf51008ce23",
   "metadata": {
    "tags": []
   },
   "outputs": [
    {
     "data": {
      "image/png": "[encoded data removed]",
      "text/plain": [
       "<Figure size 640x480 with 1 Axes>"
      ]
     },
     "metadata": {},
     "output_type": "display_data"
    }
   ],
   "source": [
    "\n",
    "plt.plot(p_j[:,0],p_j[:,2],color='r')\n",
    "plt.plot(p_t[:,0],p_t[:,2],color='b')\n",
    "plt.yscale('log')"
   ]
  },
  {
   "cell_type": "markdown",
   "id": "e0f8fa2e-b296-45b2-a0b0-798ab4bbd715",
   "metadata": {},
   "source": [
    "## This is a bit no easy to read, so lets just take the first 1000 entries of each sets"
   ]
  },
  {
   "cell_type": "code",
   "execution_count": 13,
   "id": "7536c805-e24f-475b-aa59-76fa5f816e76",
   "metadata": {
    "tags": []
   },
   "outputs": [
    {
     "data": {
      "image/png": "[encoded data removed]",
      "text/plain": [
       "<Figure size 640x480 with 1 Axes>"
      ]
     },
     "metadata": {},
     "output_type": "display_data"
    }
   ],
   "source": [
    "\n",
    "plt.plot(p_j_1k[:1000,0],p_j_1k[:1000,2],color='r')\n",
    "plt.plot(p_t_1k[:1000,0],p_t_1k[:1000,2],color='b')\n",
    "plt.yscale('log')"
   ]
  },
  {
   "cell_type": "markdown",
   "id": "fc7d12c6-0e4e-4aa9-8244-99c14ef4295d",
   "metadata": {},
   "source": [
    "## Which clearly shows Taiwan does have a higher level of concentration"
   ]
  },
  {
   "cell_type": "code",
   "execution_count": 14,
   "id": "16cac259-deb8-407f-90f4-35912a6b2220",
   "metadata": {
    "tags": []
   },
   "outputs": [],
   "source": [
    "def acc(data):\n",
    "    acc = 0\n",
    "    rev_data = data[::-1]\n",
    "    acc_list = np.zeros(data.shape[0])\n",
    "    for i in range(data.shape[0]):\n",
    "        acc += rev_data[i]\n",
    "        acc_list[i] = acc\n",
    "    return acc_list"
   ]
  },
  {
   "cell_type": "markdown",
   "id": "d8f55724-26d6-43bc-87b0-2937ca0daa86",
   "metadata": {},
   "source": [
    "## Now we tried to calculate the gini cofficient of the two data sets\n",
    "### Since this is gini cofficient, we also include a gray line for comparison"
   ]
  },
  {
   "cell_type": "code",
   "execution_count": 15,
   "id": "21018f86-40be-419d-af53-45f0b18c6841",
   "metadata": {
    "tags": []
   },
   "outputs": [
    {
     "data": {
      "text/plain": [
       "[<matplotlib.lines.Line2D at 0x24c1914a810>]"
      ]
     },
     "execution_count": 15,
     "metadata": {},
     "output_type": "execute_result"
    },
    {
     "data": {
      "image/png": "[encoded data removed]",
      "text/plain": [
       "<Figure size 640x480 with 1 Axes>"
      ]
     },
     "metadata": {},
     "output_type": "display_data"
    }
   ],
   "source": [
    "plt.plot(p_j_1k[:,0],acc(p_j_1k[:,2]),color='r')\n",
    "plt.plot(p_t_1k[:,0],acc(p_t_1k[:,2]),color='b')\n",
    "plt.plot(np.linspace(0,999,1000),np.linspace(0,1,1000),color='gray')"
   ]
  },
  {
   "cell_type": "markdown",
   "id": "fbc0b1cb-9cf4-4d13-bdf7-c251ce40178d",
   "metadata": {},
   "source": [
    "### examples taken from https://github.com/oliviaguest/gini"
   ]
  },
  {
   "cell_type": "code",
   "execution_count": 16,
   "id": "1fa55571-b0d9-45f1-914e-0b8351a9d8e9",
   "metadata": {
    "tags": []
   },
   "outputs": [],
   "source": [
    "def gini(array):\n",
    "    \"\"\"Calculate the Gini coefficient of a numpy array.\"\"\"\n",
    "    # based on bottom eq: http://www.statsdirect.com/help/content/image/stat0206_wmf.gif\n",
    "    # from: http://www.statsdirect.com/help/default.htm#nonparametric_methods/gini.htm\n",
    "    array = array.flatten() #all values are treated equally, arrays must be 1d\n",
    "    if np.amin(array) < 0:\n",
    "        array -= np.amin(array) #values cannot be negative\n",
    "    array += 0.0000001 #values cannot be 0\n",
    "    array = np.sort(array) #values must be sorted\n",
    "    index = np.arange(1,array.shape[0]+1) #index per array element\n",
    "    n = array.shape[0]#number of array elements\n",
    "    return ((np.sum((2 * index - n  - 1) * array)) / (n * np.sum(array))) #Gini coefficient"
   ]
  },
  {
   "cell_type": "code",
   "execution_count": 17,
   "id": "cc513f64-f1c8-4a38-9d4e-9d97e79abf16",
   "metadata": {
    "tags": []
   },
   "outputs": [
    {
     "name": "stdout",
     "output_type": "stream",
     "text": [
      "The gini index of Japan: 0.8707163603956866\n",
      "The gini index of Taiwan: 0.9833302879456073\n"
     ]
    }
   ],
   "source": [
    "print(f'The gini index of Japan: {gini(j[:,2])}')\n",
    "print(f'The gini index of Taiwan: {gini(t[:,2])}')"
   ]
  },
  {
   "cell_type": "markdown",
   "id": "7dd74a93-2a6e-4a68-8421-cbd426f199fb",
   "metadata": {},
   "source": [
    "## As you can see again, Taiwan really does have higher level of concentration in last names\n",
    "### The gini index of Japan: 0.8707163603956866\n",
    "### The gini index of Taiwan: 0.9833302879456073"
   ]
  },
  {
   "cell_type": "code",
   "execution_count": null,
   "id": "ead2e3a9-7c48-448f-a32d-51d4dc7b190f",
   "metadata": {},
   "outputs": [],
   "source": []
  }
 ],
 "metadata": {
  "kernelspec": {
   "display_name": "Python 3 (ipykernel)",
   "language": "python",
   "name": "python3"
  },
  "language_info": {
   "codemirror_mode": {
    "name": "ipython",
    "version": 3
   },
   "file_extension": ".py",
   "mimetype": "text/x-python",
   "name": "python",
   "nbconvert_exporter": "python",
   "pygments_lexer": "ipython3",
   "version": "3.11.5"
  }
 },
 "nbformat": 4,
 "nbformat_minor": 5
}
